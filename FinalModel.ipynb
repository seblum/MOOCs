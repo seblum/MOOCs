{
 "cells": [
  {
   "cell_type": "code",
   "execution_count": null,
   "metadata": {},
   "outputs": [],
   "source": [
    "#lstm_model1 = tf.keras.Sequential([\n",
    "#    tf.keras.layers.Embedding(input_dim = maxNumWords, output_dim = num_layers,  input_length = sentence_length),\n",
    "#    tf.keras.layers.Dropout(0.3),\n",
    "#    tf.keras.layers.LSTM(num_layers, return_sequences = True, dropout = 0.3, recurrent_dropout = 0.2),\n",
    "#    tf.keras.layers.LSTM(num_layers, dropout = 0.3, recurrent_dropout = 0.2),\n",
    "#    tf.keras.layers.Dense(3, activation = 'softmax') # three outputs\n",
    "#])\n",
    "\n",
    "#lstm_model1.compile(loss =tf.keras.losses.BinaryCrossentropy(from_logits=True),\n",
    "#                   optimizer = tf.keras.optimizers.Adam(1e-4),\n",
    "#                   metrics = ['accuracy'])\n",
    "#lstm_model1.summary()\n",
    "\n",
    "#history1 = lstm_model1.fit(x_train, y_train, epochs = epochs, batch_size = batch_size, validation_data = (x_test, y_test))"
   ]
  },
  {
   "cell_type": "code",
   "execution_count": null,
   "metadata": {},
   "outputs": [],
   "source": []
  }
 ],
 "metadata": {
  "kernelspec": {
   "display_name": "Python 3",
   "language": "python",
   "name": "python3"
  },
  "language_info": {
   "codemirror_mode": {
    "name": "ipython",
    "version": 3
   },
   "file_extension": ".py",
   "mimetype": "text/x-python",
   "name": "python",
   "nbconvert_exporter": "python",
   "pygments_lexer": "ipython3",
   "version": "3.6.10"
  }
 },
 "nbformat": 4,
 "nbformat_minor": 4
}
